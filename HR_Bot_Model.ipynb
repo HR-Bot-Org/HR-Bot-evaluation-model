{
  "nbformat": 4,
  "nbformat_minor": 0,
  "metadata": {
    "colab": {
      "name": "HR-Bot Model.ipynb",
      "provenance": [],
      "authorship_tag": "ABX9TyPBhcchemOjD3pCPcsM1C3O",
      "include_colab_link": true
    },
    "kernelspec": {
      "name": "python3",
      "display_name": "Python 3"
    }
  },
  "cells": [
    {
      "cell_type": "markdown",
      "metadata": {
        "id": "view-in-github",
        "colab_type": "text"
      },
      "source": [
        "<a href=\"https://colab.research.google.com/github/usamaeltmsah/HR-Bot-evaluation-model/blob/universal-senence-encoder/HR_Bot_Model.ipynb\" target=\"_parent\"><img src=\"https://colab.research.google.com/assets/colab-badge.svg\" alt=\"Open In Colab\"/></a>"
      ]
    },
    {
      "cell_type": "code",
      "metadata": {
        "id": "nwRqFAtFyAJC",
        "colab_type": "code",
        "colab": {}
      },
      "source": [
        "%%capture\n",
        "# Install the latest Tensorflow version.sentence\n",
        "!pip3 install --upgrade tensorflow-gpu\n",
        "# Install TF-Hub.\n",
        "!pip3 install tensorflow-hub"
      ],
      "execution_count": 49,
      "outputs": []
    },
    {
      "cell_type": "code",
      "metadata": {
        "id": "N-Q__l8cy4Y7",
        "colab_type": "code",
        "colab": {
          "base_uri": "https://localhost:8080/",
          "height": 88
        },
        "outputId": "a387bbed-866b-4c94-b681-9f00a16075bd"
      },
      "source": [
        "# load the universal sentence encoder model\n",
        "module_url = \"https://tfhub.dev/google/universal-sentence-encoder-large/5\" #@param [\"https://tfhub.dev/google/universal-sentence-encoder/4\", \"https://tfhub.dev/google/universal-sentence-encoder-large/5\"]\n",
        "model = hub.load(module_url)\n",
        "print (\"module %s loaded\" % module_url)"
      ],
      "execution_count": 50,
      "outputs": [
        {
          "output_type": "stream",
          "text": [
            "WARNING:tensorflow:8 out of the last 11 calls to <function recreate_function.<locals>.restored_function_body at 0x7fba6e50f268> triggered tf.function retracing. Tracing is expensive and the excessive number of tracings could be due to (1) creating @tf.function repeatedly in a loop, (2) passing tensors with different shapes, (3) passing Python objects instead of tensors. For (1), please define your @tf.function outside of the loop. For (2), @tf.function has experimental_relax_shapes=True option that relaxes argument shapes that can avoid unnecessary retracing. For (3), please refer to https://www.tensorflow.org/tutorials/customization/performance#python_or_tensor_args and https://www.tensorflow.org/api_docs/python/tf/function for  more details.\n"
          ],
          "name": "stdout"
        },
        {
          "output_type": "stream",
          "text": [
            "WARNING:tensorflow:8 out of the last 11 calls to <function recreate_function.<locals>.restored_function_body at 0x7fba6e50f268> triggered tf.function retracing. Tracing is expensive and the excessive number of tracings could be due to (1) creating @tf.function repeatedly in a loop, (2) passing tensors with different shapes, (3) passing Python objects instead of tensors. For (1), please define your @tf.function outside of the loop. For (2), @tf.function has experimental_relax_shapes=True option that relaxes argument shapes that can avoid unnecessary retracing. For (3), please refer to https://www.tensorflow.org/tutorials/customization/performance#python_or_tensor_args and https://www.tensorflow.org/api_docs/python/tf/function for  more details.\n"
          ],
          "name": "stderr"
        },
        {
          "output_type": "stream",
          "text": [
            "module https://tfhub.dev/google/universal-sentence-encoder-large/5 loaded\n"
          ],
          "name": "stdout"
        }
      ]
    },
    {
      "cell_type": "code",
      "metadata": {
        "id": "b8S4GAm5yHV4",
        "colab_type": "code",
        "colab": {}
      },
      "source": [
        "import tensorflow as tf\n",
        "import tensorflow_hub as hub\n",
        "import math\n",
        "import numpy as np\n",
        "\n",
        "class Evaulator:\n",
        "  def __embed(self, input):\n",
        "    return model(input)\n",
        "\n",
        "  def __calculate_correlation(self, features):\n",
        "    corrList = np.inner(features[:-1], features[-1])\n",
        "    return np.max(corrList)\n",
        "\n",
        "  def evalute_applicant_answer(self, model_answers, applicant_answer):\n",
        "    answers = model_answers\n",
        "    answers.append(applicant_answer)\n",
        "    embedding_answers = self.__embed(answers)\n",
        "    corr = self.__calculate_correlation(embedding_answers)\n",
        "    \"\"\"Returns the similarity scores\"\"\"\n",
        "    return round(corr*10,2)"
      ],
      "execution_count": 51,
      "outputs": []
    },
    {
      "cell_type": "code",
      "metadata": {
        "id": "EwUq7RVCz0p7",
        "colab_type": "code",
        "colab": {
          "base_uri": "https://localhost:8080/",
          "height": 530
        },
        "outputId": "aa0bcab7-f56b-4516-d1dd-1ca4609869e4"
      },
      "source": [
        "!pip install flask-ngrok\n",
        "!pip install Wikipedia-API"
      ],
      "execution_count": 52,
      "outputs": [
        {
          "output_type": "stream",
          "text": [
            "Collecting flask-ngrok\n",
            "  Downloading https://files.pythonhosted.org/packages/af/6c/f54cb686ad1129e27d125d182f90f52b32f284e6c8df58c1bae54fa1adbc/flask_ngrok-0.0.25-py3-none-any.whl\n",
            "Requirement already satisfied: requests in /usr/local/lib/python3.6/dist-packages (from flask-ngrok) (2.23.0)\n",
            "Requirement already satisfied: Flask>=0.8 in /usr/local/lib/python3.6/dist-packages (from flask-ngrok) (1.1.2)\n",
            "Requirement already satisfied: chardet<4,>=3.0.2 in /usr/local/lib/python3.6/dist-packages (from requests->flask-ngrok) (3.0.4)\n",
            "Requirement already satisfied: certifi>=2017.4.17 in /usr/local/lib/python3.6/dist-packages (from requests->flask-ngrok) (2020.6.20)\n",
            "Requirement already satisfied: urllib3!=1.25.0,!=1.25.1,<1.26,>=1.21.1 in /usr/local/lib/python3.6/dist-packages (from requests->flask-ngrok) (1.24.3)\n",
            "Requirement already satisfied: idna<3,>=2.5 in /usr/local/lib/python3.6/dist-packages (from requests->flask-ngrok) (2.10)\n",
            "Requirement already satisfied: itsdangerous>=0.24 in /usr/local/lib/python3.6/dist-packages (from Flask>=0.8->flask-ngrok) (1.1.0)\n",
            "Requirement already satisfied: Jinja2>=2.10.1 in /usr/local/lib/python3.6/dist-packages (from Flask>=0.8->flask-ngrok) (2.11.2)\n",
            "Requirement already satisfied: click>=5.1 in /usr/local/lib/python3.6/dist-packages (from Flask>=0.8->flask-ngrok) (7.1.2)\n",
            "Requirement already satisfied: Werkzeug>=0.15 in /usr/local/lib/python3.6/dist-packages (from Flask>=0.8->flask-ngrok) (1.0.1)\n",
            "Requirement already satisfied: MarkupSafe>=0.23 in /usr/local/lib/python3.6/dist-packages (from Jinja2>=2.10.1->Flask>=0.8->flask-ngrok) (1.1.1)\n",
            "Installing collected packages: flask-ngrok\n",
            "Successfully installed flask-ngrok-0.0.25\n",
            "Collecting Wikipedia-API\n",
            "  Downloading https://files.pythonhosted.org/packages/ef/3d/289963bbf51f8d00cdf7483cdc2baee25ba877e8b4eb72157c47211e3b57/Wikipedia-API-0.5.4.tar.gz\n",
            "Requirement already satisfied: requests in /usr/local/lib/python3.6/dist-packages (from Wikipedia-API) (2.23.0)\n",
            "Requirement already satisfied: certifi>=2017.4.17 in /usr/local/lib/python3.6/dist-packages (from requests->Wikipedia-API) (2020.6.20)\n",
            "Requirement already satisfied: urllib3!=1.25.0,!=1.25.1,<1.26,>=1.21.1 in /usr/local/lib/python3.6/dist-packages (from requests->Wikipedia-API) (1.24.3)\n",
            "Requirement already satisfied: chardet<4,>=3.0.2 in /usr/local/lib/python3.6/dist-packages (from requests->Wikipedia-API) (3.0.4)\n",
            "Requirement already satisfied: idna<3,>=2.5 in /usr/local/lib/python3.6/dist-packages (from requests->Wikipedia-API) (2.10)\n",
            "Building wheels for collected packages: Wikipedia-API\n",
            "  Building wheel for Wikipedia-API (setup.py) ... \u001b[?25l\u001b[?25hdone\n",
            "  Created wheel for Wikipedia-API: filename=Wikipedia_API-0.5.4-cp36-none-any.whl size=13462 sha256=c6c480f0d46e165754015505567199be1b50e2fc47199c5419344b92aacb347d\n",
            "  Stored in directory: /root/.cache/pip/wheels/bf/40/42/ba1d497f3712281b659dd65b566fc868035c859239571a725a\n",
            "Successfully built Wikipedia-API\n",
            "Installing collected packages: Wikipedia-API\n",
            "Successfully installed Wikipedia-API-0.5.4\n"
          ],
          "name": "stdout"
        }
      ]
    },
    {
      "cell_type": "code",
      "metadata": {
        "id": "4BiAzSC_ygJx",
        "colab_type": "code",
        "colab": {}
      },
      "source": [
        "import wikipediaapi\n",
        "from googlesearch import search\n",
        "# from flask import render_template\n",
        "\n",
        "class Parser:\n",
        "\n",
        "    def __init__(self, skills):\n",
        "        self.skills = skills\n",
        "\n",
        "    def parse(self, sign):\n",
        "        sentences = []\n",
        "        for skill in self.skills:\n",
        "            sentences.append(skill['name'].split())\n",
        "        \n",
        "        search_keys = []\n",
        "        search_key = ''\n",
        "\n",
        "        for sentence in sentences:\n",
        "            for i in range(len(sentences)-1):\n",
        "                search_key += sentence[i]\n",
        "                search_key += sign\n",
        "            search_key += sentence[-1]\n",
        "            search_keys.append(search_key)\n",
        "            search_key = ''\n",
        "\n",
        "        return search_keys\n",
        "\n",
        "class FeedBack:\n",
        "    \n",
        "    def __init__(self, data):\n",
        "        self.skills = data['skills']\n",
        "        self.question = data['question']\n",
        "        self.token = data['token']\n",
        "\n",
        "        \n",
        "\n",
        "    #Done\n",
        "    def wikipediaSearch(self):\n",
        "        result = []\n",
        "        wiki_wiki = wikipediaapi.Wikipedia('en')\n",
        "        page_question = wiki_wiki.page(self.question)\n",
        "        skills = self.skills\n",
        "        \n",
        "        for skill in skills:\n",
        "            x = wiki_wiki.page(skill['name'])\n",
        "            result.append(x.summary)\n",
        "\n",
        "        result.append(page_question.summary)\n",
        "        return result\n",
        "    \n",
        "    #Done\n",
        "    def googleSearch(self):\n",
        "        skills = self.skills\n",
        "        question = self.question\n",
        "        result = []\n",
        "\n",
        "        for skill in skills:\n",
        "            query = 'site:' + skill['site'] + ' ' + question + ' + ' + skill['name']\n",
        "            for j in search(query, tld=\"com\", num=10, stop=1, pause=2): \n",
        "                result.append(str(j)) \n",
        "\n",
        "        return result\n",
        "\n",
        "    #Done\n",
        "    def courseraSearch(self):\n",
        "        p = Parser(self.skills)\n",
        "        search_keys = p.parse('%20')\n",
        "        links = []\n",
        "        result = []\n",
        "        for search_key in search_keys:\n",
        "            link = 'https://www.coursera.org/search?query=' + search_key\n",
        "            links.append(link)\n",
        "        \n",
        "        for link in links :\n",
        "            result.append(link)\n",
        "\n",
        "        return result\n",
        "\n",
        "    #Done\n",
        "    def udemySearch(self):\n",
        "        p = Parser(self.skills)\n",
        "        search_keys = p.parse('+')\n",
        "        links = []\n",
        "        result = []\n",
        "        for search_key in search_keys:\n",
        "            link = 'https://www.udemy.com/courses/search/?q=' + search_key\n",
        "            links.append(link)\n",
        "        \n",
        "        for link in links :\n",
        "            result.append(link)\n",
        "\n",
        "        return result\n",
        "    \n",
        "    #Done\n",
        "    def pluralsightSearch(self):\n",
        "        p = Parser(self.skills)\n",
        "        search_keys = p.parse('%20')\n",
        "        links = []\n",
        "        result = []\n",
        "        for search_key in search_keys:\n",
        "            link = 'https://www.pluralsight.com/search?q=' + search_key\n",
        "            links.append(link)\n",
        "        \n",
        "        for link in links :\n",
        "            result.append(link)\n",
        "\n",
        "        return result\n",
        "\n",
        "    #Done\n",
        "    def lyndaSearch(self):\n",
        "        p = Parser(self.skills)\n",
        "        search_keys = p.parse('%20')\n",
        "        links = []\n",
        "        result = []\n",
        "        for search_key in search_keys:\n",
        "            link = 'https://www.lynda.com/search?q=' + search_key\n",
        "            links.append(link)\n",
        "        \n",
        "        for link in links :\n",
        "            result.append(link)\n",
        "\n",
        "        return result\n",
        "\n",
        "    def search(self):\n",
        "        token = self.token \n",
        "        if token == \"hr_bot_2019_2020\":    \n",
        "            result = []\n",
        "            result.append(self.wikipediaSearch())\n",
        "            result.append(self.googleSearch())\n",
        "            result.append(self.courseraSearch())\n",
        "            result.append(self.udemySearch())\n",
        "            result.append(self.pluralsightSearch())\n",
        "            result.append(self.lyndaSearch())\n",
        "            \n",
        "            return result\n",
        "\n",
        "        else:\n",
        "            return None\n",
        "\n",
        "# p = Parser('machine learning andrew eg')\n",
        "# print(    p.parseForCoursera())\n",
        "if __name__ == \"__main__\":\n",
        "    pass"
      ],
      "execution_count": 53,
      "outputs": []
    },
    {
      "cell_type": "code",
      "metadata": {
        "id": "Id08Sh1bzpBA",
        "colab_type": "code",
        "colab": {
          "base_uri": "https://localhost:8080/",
          "height": 969
        },
        "outputId": "4fbf31d0-b3e8-4427-adba-d7fd249b4092"
      },
      "source": [
        "from flask_ngrok import run_with_ngrok\n",
        "from flask import Flask, request, abort, jsonify\n",
        "\n",
        "evaluator = Evaulator()\n",
        "app = Flask(__name__)\n",
        "run_with_ngrok(app)   #starts ngrok when the app is run\n",
        "\n",
        "@app.route('/')\n",
        "def index():\n",
        "    return \"Machine Learning Models For HR-Bot\"\n",
        "\n",
        "@app.route('/evaluate', methods=['POST'])\n",
        "def evaluation():\n",
        "    if not request.json or not 'token' in request.json or not 'answers' in request.json or not 'applicant_answer' in request.json:\n",
        "        abort(400)\n",
        "\n",
        "    token = str(request.json[\"token\"])\n",
        "\n",
        "    if not(token == \"hr_bot_2019_2020\"):\n",
        "        abort(404)\n",
        "    else:\n",
        "        model_answers = request.json['answers']\n",
        "        applicant_answer = request.json['applicant_answer']\n",
        "        score = evaluator.evalute_applicant_answer(model_answers, applicant_answer)\n",
        "        print()\n",
        "        return jsonify({'score': str(score)}), 200\n",
        "\n",
        "\n",
        "# intput example : \n",
        "# {\n",
        "#     \"data\" :\n",
        "#     {\n",
        "#         \"question\": \"what is the desicion tree\", \n",
        "#         \"skills\": \n",
        "#         [\n",
        "#             {\n",
        "#                 \"name\": \"machine learning\",\n",
        "#                 \"site\": \"www.datacamp.com\"\n",
        "#             },\n",
        "#             {\n",
        "#                 \"name\": \"object oriented\",\n",
        "#                 \"site\":\"www.datacamp.com\"\n",
        "#             }\n",
        "#         ],\n",
        "#         \"token\": \"hr_bot_2019_2020\"\n",
        "#     }\n",
        "# }\n",
        "@app.route('/interview/feedback')\n",
        "def feedback():\n",
        "    if not request.json or not 'data' in request.json:\n",
        "        abort(400)\n",
        "\n",
        "    data = (request.json['data'])\n",
        "    f = FeedBack(data=data)\n",
        "    my_feedback = f.search()\n",
        "\n",
        "    if my_feedback is None:\n",
        "        abort(404)\n",
        "        return \"This should not be returned\"\n",
        "    else:\n",
        "        return jsonify({'feedback': my_feedback}), 200\n",
        "\n",
        "if __name__ == \"__main__\":\n",
        "    app.run()"
      ],
      "execution_count": null,
      "outputs": [
        {
          "output_type": "stream",
          "text": [
            " * Serving Flask app \"__main__\" (lazy loading)\n",
            " * Environment: production\n",
            "\u001b[31m   WARNING: This is a development server. Do not use it in a production deployment.\u001b[0m\n",
            "\u001b[2m   Use a production WSGI server instead.\u001b[0m\n",
            " * Debug mode: off\n"
          ],
          "name": "stdout"
        },
        {
          "output_type": "stream",
          "text": [
            "INFO:werkzeug: * Running on http://127.0.0.1:5000/ (Press CTRL+C to quit)\n"
          ],
          "name": "stderr"
        },
        {
          "output_type": "stream",
          "text": [
            " * Running on http://a7fd1a2ee44d.ngrok.io\n",
            " * Traffic stats available on http://127.0.0.1:4040\n"
          ],
          "name": "stdout"
        },
        {
          "output_type": "stream",
          "text": [
            "INFO:werkzeug:127.0.0.1 - - [12/Aug/2020 04:28:43] \"\u001b[37mGET / HTTP/1.1\u001b[0m\" 200 -\n",
            "INFO:werkzeug:127.0.0.1 - - [12/Aug/2020 04:29:03] \"\u001b[37mPOST /evaluate HTTP/1.1\u001b[0m\" 200 -\n"
          ],
          "name": "stderr"
        },
        {
          "output_type": "stream",
          "text": [
            "\n"
          ],
          "name": "stdout"
        },
        {
          "output_type": "stream",
          "text": [
            "INFO:werkzeug:127.0.0.1 - - [12/Aug/2020 04:30:22] \"\u001b[37mPOST /evaluate HTTP/1.1\u001b[0m\" 200 -\n"
          ],
          "name": "stderr"
        },
        {
          "output_type": "stream",
          "text": [
            "\n"
          ],
          "name": "stdout"
        },
        {
          "output_type": "stream",
          "text": [
            "INFO:werkzeug:127.0.0.1 - - [12/Aug/2020 04:31:41] \"\u001b[37mPOST /evaluate HTTP/1.1\u001b[0m\" 200 -\n"
          ],
          "name": "stderr"
        },
        {
          "output_type": "stream",
          "text": [
            "\n"
          ],
          "name": "stdout"
        },
        {
          "output_type": "stream",
          "text": [
            "INFO:werkzeug:127.0.0.1 - - [12/Aug/2020 04:34:19] \"\u001b[31m\u001b[1mPOST / HTTP/1.1\u001b[0m\" 405 -\n",
            "INFO:werkzeug:127.0.0.1 - - [12/Aug/2020 04:34:58] \"\u001b[37mPOST /evaluate HTTP/1.1\u001b[0m\" 200 -\n"
          ],
          "name": "stderr"
        },
        {
          "output_type": "stream",
          "text": [
            "\n"
          ],
          "name": "stdout"
        },
        {
          "output_type": "stream",
          "text": [
            "INFO:werkzeug:127.0.0.1 - - [12/Aug/2020 04:35:27] \"\u001b[37mPOST /evaluate HTTP/1.1\u001b[0m\" 200 -\n"
          ],
          "name": "stderr"
        },
        {
          "output_type": "stream",
          "text": [
            "\n"
          ],
          "name": "stdout"
        },
        {
          "output_type": "stream",
          "text": [
            "INFO:werkzeug:127.0.0.1 - - [12/Aug/2020 04:37:28] \"\u001b[37mPOST /evaluate HTTP/1.1\u001b[0m\" 200 -\n"
          ],
          "name": "stderr"
        },
        {
          "output_type": "stream",
          "text": [
            "\n"
          ],
          "name": "stdout"
        },
        {
          "output_type": "stream",
          "text": [
            "INFO:werkzeug:127.0.0.1 - - [12/Aug/2020 04:37:43] \"\u001b[37mPOST /evaluate HTTP/1.1\u001b[0m\" 200 -\n"
          ],
          "name": "stderr"
        },
        {
          "output_type": "stream",
          "text": [
            "\n"
          ],
          "name": "stdout"
        },
        {
          "output_type": "stream",
          "text": [
            "ERROR:__main__:Exception on /evaluate [POST]\n",
            "Traceback (most recent call last):\n",
            "  File \"/usr/local/lib/python3.6/dist-packages/flask/app.py\", line 2447, in wsgi_app\n",
            "    response = self.full_dispatch_request()\n",
            "  File \"/usr/local/lib/python3.6/dist-packages/flask/app.py\", line 1952, in full_dispatch_request\n",
            "    rv = self.handle_user_exception(e)\n",
            "  File \"/usr/local/lib/python3.6/dist-packages/flask/app.py\", line 1821, in handle_user_exception\n",
            "    reraise(exc_type, exc_value, tb)\n",
            "  File \"/usr/local/lib/python3.6/dist-packages/flask/_compat.py\", line 39, in reraise\n",
            "    raise value\n",
            "  File \"/usr/local/lib/python3.6/dist-packages/flask/app.py\", line 1950, in full_dispatch_request\n",
            "    rv = self.dispatch_request()\n",
            "  File \"/usr/local/lib/python3.6/dist-packages/flask/app.py\", line 1936, in dispatch_request\n",
            "    return self.view_functions[rule.endpoint](**req.view_args)\n",
            "  File \"<ipython-input-56-c1d0ce09674a>\", line 24, in evaluation\n",
            "    score = evaluator.evalute_applicant_answer(model_answers, applicant_answer)\n",
            "  File \"<ipython-input-51-8d8eff85de44>\", line 18, in evalute_applicant_answer\n",
            "    corr = self.__calculate_correlation(embedding_answers)\n",
            "  File \"<ipython-input-51-8d8eff85de44>\", line 12, in __calculate_correlation\n",
            "    return np.max(corrList)\n",
            "  File \"<__array_function__ internals>\", line 6, in amax\n",
            "  File \"/usr/local/lib/python3.6/dist-packages/numpy/core/fromnumeric.py\", line 2668, in amax\n",
            "    keepdims=keepdims, initial=initial, where=where)\n",
            "  File \"/usr/local/lib/python3.6/dist-packages/numpy/core/fromnumeric.py\", line 90, in _wrapreduction\n",
            "    return ufunc.reduce(obj, axis, dtype, out, **passkwargs)\n",
            "ValueError: zero-size array to reduction operation maximum which has no identity\n",
            "INFO:werkzeug:127.0.0.1 - - [12/Aug/2020 04:39:25] \"\u001b[35m\u001b[1mPOST /evaluate HTTP/1.1\u001b[0m\" 500 -\n",
            "INFO:werkzeug:127.0.0.1 - - [12/Aug/2020 05:08:47] \"\u001b[37mPOST /evaluate HTTP/1.1\u001b[0m\" 200 -\n"
          ],
          "name": "stderr"
        },
        {
          "output_type": "stream",
          "text": [
            "\n"
          ],
          "name": "stdout"
        },
        {
          "output_type": "stream",
          "text": [
            "INFO:werkzeug:127.0.0.1 - - [12/Aug/2020 06:09:23] \"\u001b[31m\u001b[1mGET /evaluate HTTP/1.1\u001b[0m\" 405 -\n",
            "INFO:werkzeug:127.0.0.1 - - [12/Aug/2020 08:17:23] \"\u001b[37mPOST /evaluate HTTP/1.1\u001b[0m\" 200 -\n"
          ],
          "name": "stderr"
        },
        {
          "output_type": "stream",
          "text": [
            "\n"
          ],
          "name": "stdout"
        }
      ]
    },
    {
      "cell_type": "code",
      "metadata": {
        "id": "9kE5Orj34rmq",
        "colab_type": "code",
        "colab": {}
      },
      "source": [
        ""
      ],
      "execution_count": null,
      "outputs": []
    }
  ]
}