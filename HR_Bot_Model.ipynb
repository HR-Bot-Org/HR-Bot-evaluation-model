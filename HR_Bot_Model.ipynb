{
  "nbformat": 4,
  "nbformat_minor": 0,
  "metadata": {
    "colab": {
      "name": "HR-Bot Model.ipynb",
      "provenance": [],
      "authorship_tag": "ABX9TyNZdiXed4WV3oHFKTYY42YV",
      "include_colab_link": true
    },
    "kernelspec": {
      "name": "python3",
      "display_name": "Python 3"
    }
  },
  "cells": [
    {
      "cell_type": "markdown",
      "metadata": {
        "id": "view-in-github",
        "colab_type": "text"
      },
      "source": [
        "<a href=\"https://colab.research.google.com/github/usamaeltmsah/HR-Bot-evaluation-model/blob/universal-sentence-encoder/HR_Bot_Model.ipynb\" target=\"_parent\"><img src=\"https://colab.research.google.com/assets/colab-badge.svg\" alt=\"Open In Colab\"/></a>"
      ]
    },
    {
      "cell_type": "code",
      "metadata": {
        "id": "nwRqFAtFyAJC",
        "colab_type": "code",
        "colab": {}
      },
      "source": [
        "%%capture\n",
        "# Install the latest Tensorflow version.sentence\n",
        "!pip3 install --upgrade tensorflow-gpu\n",
        "# Install TF-Hub.\n",
        "!pip3 install tensorflow-hub"
      ],
      "execution_count": 3,
      "outputs": []
    },
    {
      "cell_type": "code",
      "metadata": {
        "id": "N-Q__l8cy4Y7",
        "colab_type": "code",
        "colab": {
          "base_uri": "https://localhost:8080/",
          "height": 34
        },
        "outputId": "618249d0-64c1-4565-a1b2-ba600fce899f"
      },
      "source": [
        "import tensorflow as tf\n",
        "import tensorflow_hub as hub\n",
        "import math\n",
        "import numpy as np\n",
        "\n",
        "# load the universal sentence encoder model\n",
        "module_url = \"https://tfhub.dev/google/universal-sentence-encoder-large/5\" #@param [\"https://tfhub.dev/google/universal-sentence-encoder/4\", \"https://tfhub.dev/google/universal-sentence-encoder-large/5\"]\n",
        "model = hub.load(module_url)\n",
        "print (\"module %s loaded\" % module_url)"
      ],
      "execution_count": 5,
      "outputs": [
        {
          "output_type": "stream",
          "text": [
            "module https://tfhub.dev/google/universal-sentence-encoder-large/5 loaded\n"
          ],
          "name": "stdout"
        }
      ]
    },
    {
      "cell_type": "code",
      "metadata": {
        "id": "b8S4GAm5yHV4",
        "colab_type": "code",
        "colab": {}
      },
      "source": [
        "class Evaulator:\n",
        "  def __embed(self, input):\n",
        "    return model(input)\n",
        "\n",
        "  def __calculate_correlation(self, features):\n",
        "    corrList = np.inner(features[:-1], features[-1])\n",
        "    return corrList\n",
        "\n",
        "  def __get_best_score(self, corrList):\n",
        "    return np.max(corrList)\n",
        "\n",
        "  def evalute_applicant_answer(self, model_answers, applicant_answer):\n",
        "    answers = model_answers\n",
        "    answers.append(applicant_answer)\n",
        "    embedding_answers = self.__embed(answers)\n",
        "    corr = self.__calculate_correlation(embedding_answers)\n",
        "    score = self.__get_best_score(corr)\n",
        "    \"\"\"Returns the similarity scores\"\"\"\n",
        "    return round(score*10,2)"
      ],
      "execution_count": 6,
      "outputs": []
    },
    {
      "cell_type": "code",
      "metadata": {
        "id": "EwUq7RVCz0p7",
        "colab_type": "code",
        "colab": {
          "base_uri": "https://localhost:8080/",
          "height": 343
        },
        "outputId": "fddcde2b-be9c-4aef-dd63-6e43258d426a"
      },
      "source": [
        "!pip install flask-ngrok\n",
        "!pip install Wikipedia-API"
      ],
      "execution_count": null,
      "outputs": [
        {
          "output_type": "stream",
          "text": [
            "Requirement already satisfied: flask-ngrok in /usr/local/lib/python3.6/dist-packages (0.0.25)\n",
            "Requirement already satisfied: Flask>=0.8 in /usr/local/lib/python3.6/dist-packages (from flask-ngrok) (1.1.2)\n",
            "Requirement already satisfied: requests in /usr/local/lib/python3.6/dist-packages (from flask-ngrok) (2.23.0)\n",
            "Requirement already satisfied: Jinja2>=2.10.1 in /usr/local/lib/python3.6/dist-packages (from Flask>=0.8->flask-ngrok) (2.11.2)\n",
            "Requirement already satisfied: Werkzeug>=0.15 in /usr/local/lib/python3.6/dist-packages (from Flask>=0.8->flask-ngrok) (1.0.1)\n",
            "Requirement already satisfied: itsdangerous>=0.24 in /usr/local/lib/python3.6/dist-packages (from Flask>=0.8->flask-ngrok) (1.1.0)\n",
            "Requirement already satisfied: click>=5.1 in /usr/local/lib/python3.6/dist-packages (from Flask>=0.8->flask-ngrok) (7.1.2)\n",
            "Requirement already satisfied: urllib3!=1.25.0,!=1.25.1,<1.26,>=1.21.1 in /usr/local/lib/python3.6/dist-packages (from requests->flask-ngrok) (1.24.3)\n",
            "Requirement already satisfied: certifi>=2017.4.17 in /usr/local/lib/python3.6/dist-packages (from requests->flask-ngrok) (2020.6.20)\n",
            "Requirement already satisfied: chardet<4,>=3.0.2 in /usr/local/lib/python3.6/dist-packages (from requests->flask-ngrok) (3.0.4)\n",
            "Requirement already satisfied: idna<3,>=2.5 in /usr/local/lib/python3.6/dist-packages (from requests->flask-ngrok) (2.10)\n",
            "Requirement already satisfied: MarkupSafe>=0.23 in /usr/local/lib/python3.6/dist-packages (from Jinja2>=2.10.1->Flask>=0.8->flask-ngrok) (1.1.1)\n",
            "Requirement already satisfied: Wikipedia-API in /usr/local/lib/python3.6/dist-packages (0.5.4)\n",
            "Requirement already satisfied: requests in /usr/local/lib/python3.6/dist-packages (from Wikipedia-API) (2.23.0)\n",
            "Requirement already satisfied: chardet<4,>=3.0.2 in /usr/local/lib/python3.6/dist-packages (from requests->Wikipedia-API) (3.0.4)\n",
            "Requirement already satisfied: urllib3!=1.25.0,!=1.25.1,<1.26,>=1.21.1 in /usr/local/lib/python3.6/dist-packages (from requests->Wikipedia-API) (1.24.3)\n",
            "Requirement already satisfied: certifi>=2017.4.17 in /usr/local/lib/python3.6/dist-packages (from requests->Wikipedia-API) (2020.6.20)\n",
            "Requirement already satisfied: idna<3,>=2.5 in /usr/local/lib/python3.6/dist-packages (from requests->Wikipedia-API) (2.10)\n"
          ],
          "name": "stdout"
        }
      ]
    },
    {
      "cell_type": "code",
      "metadata": {
        "id": "4BiAzSC_ygJx",
        "colab_type": "code",
        "colab": {
          "base_uri": "https://localhost:8080/",
          "height": 54
        },
        "outputId": "5f8c44b6-c965-436a-ce70-0f477b13cc0a"
      },
      "source": [
        "import wikipediaapi\n",
        "from googlesearch import search\n",
        "# from flask import render_template\n",
        "\n",
        "class Parser:\n",
        "\n",
        "    def __init__(self, skill):\n",
        "        self.skill = skill\n",
        "\n",
        "    def parse(self, sign):\n",
        "        \n",
        "        sentence = self.skill.split()\n",
        "        search_key = ''\n",
        "        for i in range(len(sentence)-1):\n",
        "            search_key += sentence[i]\n",
        "            search_key += sign\n",
        "        # print(sentence[-1])    \n",
        "        search_key += sentence[-1]\n",
        "\n",
        "        return search_key\n",
        "\n",
        "class FeedBack:\n",
        "    \n",
        "    def __init__(self, skills):\n",
        "        self.skills = skills\n",
        "\n",
        "        \n",
        "\n",
        "    #Done\n",
        "    def wikipediaSearch(self, skill):\n",
        "        wiki_wiki = wikipediaapi.Wikipedia('en')\n",
        "        temp = wiki_wiki.page(skill)\n",
        "        summary = temp.summary\n",
        "        \n",
        "        return summary\n",
        "    \n",
        "    #Done\n",
        "    def googleSearch(self):\n",
        "        skills = self.skills\n",
        "        question = self.question\n",
        "        result = []\n",
        "\n",
        "        for skill in skills:\n",
        "            query = question + ' + ' + skill['name']\n",
        "            for j in search(query, tld=\"com\", num=10, stop=1, pause=2): \n",
        "                result.append(str(j)) \n",
        "\n",
        "        return result\n",
        "\n",
        "    #Done\n",
        "    def courseraSearch(self, skill):\n",
        "        p = Parser(skill)\n",
        "        search_key = p.parse('%20')\n",
        "        link = 'https://www.coursera.org/search?query=' + search_key\n",
        "        # links = []\n",
        "        # result = []\n",
        "        # for search_key in search_keys:\n",
        "        #     link = 'https://www.coursera.org/search?query=' + search_key\n",
        "        #     links.append(link)\n",
        "        \n",
        "        # for link in links :\n",
        "        #     result.append(link)\n",
        "\n",
        "        return link\n",
        "\n",
        "    #Done\n",
        "    def udemySearch(self, skill):\n",
        "        p = Parser(skill)\n",
        "        search_key = p.parse('+')\n",
        "        link = 'https://www.udemy.com/courses/search/?q=' + search_key\n",
        "        # links = []\n",
        "        # result = []\n",
        "        # for search_key in search_keys:\n",
        "        #     link = 'https://www.udemy.com/courses/search/?q=' + search_key\n",
        "        #     links.append(link)\n",
        "        \n",
        "        # for link in links :\n",
        "        #     result.append(link)\n",
        "\n",
        "        return link\n",
        "    \n",
        "    #Done\n",
        "    def pluralsightSearch(self, skill):\n",
        "        p = Parser(skill)\n",
        "        search_key = p.parse('%20')\n",
        "        link = 'https://www.pluralsight.com/search?q=' + search_key\n",
        "        # links = []\n",
        "        # result = []\n",
        "        # for search_key in search_keys:\n",
        "        #     link = 'https://www.pluralsight.com/search?q=' + search_key\n",
        "        #     links.append(link)\n",
        "        \n",
        "        # for link in links :\n",
        "        #     result.append(link)\n",
        "\n",
        "        return link\n",
        "\n",
        "    #Done\n",
        "    def lyndaSearch(self, skill):\n",
        "        p = Parser(skill)\n",
        "        search_key = p.parse('%20')\n",
        "        link = 'https://www.lynda.com/search?q=' + search_key\n",
        "        # links = []\n",
        "        # result = []\n",
        "        # for search_key in search_keys:\n",
        "        #     link = 'https://www.lynda.com/search?q=' + search_key\n",
        "        #     links.append(link)\n",
        "        \n",
        "        # for link in links :\n",
        "        #     result.append(link)\n",
        "\n",
        "        return link\n",
        "\n",
        "    def create_a_skill_summary(self, skill):\n",
        "        summary = self.wikipediaSearch(skill)\n",
        "        return summary\n",
        "    \n",
        "    def create_a_skill_links(self, skill):\n",
        "        links = []\n",
        "        links.append(self.courseraSearch(skill))\n",
        "        links.append(self.udemySearch(skill))\n",
        "        links.append(self.pluralsightSearch(skill))\n",
        "        links.append(self.lyndaSearch(skill))\n",
        "\n",
        "        \n",
        "        # result = {\n",
        "        #     \"skill1\":\n",
        "        #     {\n",
        "        #     \"summary\": \"From Weki\",\n",
        "        #     \"links\": [\n",
        "        #         \"https://...\", \"https://...\", \"https://...\", \"https://...\"\n",
        "        #     ]\n",
        "        # }\n",
        "\n",
        "        # }\n",
        "             \n",
        "        return links\n",
        "    def create_feedback(self):\n",
        "\n",
        "        dictionary = {\n",
        "\n",
        "        }\n",
        "        for skill in self.skills:\n",
        "            dictionary[skill] = {}\n",
        "            dictionary[skill][\"summary\"] = self.create_a_skill_summary(skill)\n",
        "            dictionary[skill][\"links\"] = self.create_a_skill_links(skill)\n",
        "        return dictionary\n",
        "\n",
        "# p = Parser('machine learning andrew eg')\n",
        "# print(    p.parseForCoursera())\n",
        "if __name__ == \"__main__\":\n",
        "    # p = Parser(\"data base\")\n",
        "    # print(p.parse('+'))\n",
        "    f = FeedBack([\"data base\", \"machine learning\"])\n",
        "    print(f.create_feedback())"
      ],
      "execution_count": null,
      "outputs": [
        {
          "output_type": "stream",
          "text": [
            "{'data base': {'summary': 'A database is an organized collection of data, generally stored and accessed electronically from a computer system. Where databases are more complex they are often developed using formal design and modeling techniques.\\nThe database management system (DBMS) is the software that interacts with end users, applications, and the database itself to capture and analyze the data. The DBMS software additionally encompasses the core facilities provided to administer the database. The sum total of the database, the DBMS and the associated applications can be referred to as a \"database system\". Often the term \"database\" is also used to loosely refer to any of the DBMS, the database system or an application associated with the database.\\nComputer scientists may classify database-management systems according to the database models that they support. Relational databases became dominant in the 1980s. These model data as rows and columns in a series of tables, and the vast majority use SQL for writing and querying data. In the 2000s, non-relational databases became popular, referred to as NoSQL because they use different query languages.', 'links': ['https://www.coursera.org/search?query=data%20base', 'https://www.udemy.com/courses/search/?q=data+base', 'https://www.pluralsight.com/search?q=data%20base', 'https://www.lynda.com/search?q=data%20base']}, 'machine learning': {'summary': 'Machine learning (ML) is the study of computer algorithms that improve automatically through experience. It is seen as a subset of artificial intelligence. Machine learning algorithms build a mathematical model based on sample data, known as \"training data\", in order to make predictions or decisions without being explicitly programmed to do so. Machine learning algorithms are used in a wide variety of applications, such as email filtering and computer vision, where it is difficult or infeasible to develop  conventional algorithms to perform the needed tasks.\\nMachine learning is closely related to computational statistics, which focuses on making predictions using computers. The study of mathematical optimization delivers methods, theory and application domains to the field of machine learning. Data mining is a related field of study, focusing on exploratory data analysis through unsupervised learning. In its application across business problems, machine learning is also referred to as predictive analytics.', 'links': ['https://www.coursera.org/search?query=machine%20learning', 'https://www.udemy.com/courses/search/?q=machine+learning', 'https://www.pluralsight.com/search?q=machine%20learning', 'https://www.lynda.com/search?q=machine%20learning']}}\n"
          ],
          "name": "stdout"
        }
      ]
    },
    {
      "cell_type": "code",
      "metadata": {
        "id": "Id08Sh1bzpBA",
        "colab_type": "code",
        "colab": {
          "base_uri": "https://localhost:8080/",
          "height": 459
        },
        "outputId": "ed25fae0-effc-4585-8fa1-a5a608aed88a"
      },
      "source": [
        "from flask_ngrok import run_with_ngrok\n",
        "from flask import Flask, request, abort, jsonify\n",
        "\n",
        "evaluator = Evaulator()\n",
        "app = Flask(__name__)\n",
        "run_with_ngrok(app)   #starts ngrok when the app is run\n",
        "\n",
        "@app.route('/')\n",
        "def index():\n",
        "    return \"Machine Learning Models For HR-Bot\"\n",
        "\n",
        "@app.route('/evaluate', methods=['POST'])\n",
        "def evaluation():\n",
        "    if not request.json or not 'token' in request.json or not 'answers' in request.json or not 'applicant_answer' in request.json:\n",
        "        abort(400)\n",
        "\n",
        "    token = str(request.json[\"token\"])\n",
        "\n",
        "    if not(token == \"hr_bot_2019_2020\"):\n",
        "        abort(404)\n",
        "    else:\n",
        "        model_answers = request.json['answers']\n",
        "        applicant_answer = request.json['applicant_answer']\n",
        "        score = evaluator.evalute_applicant_answer(model_answers, applicant_answer)\n",
        "        print()\n",
        "        return jsonify({'score': str(score)}), 200\n",
        "\n",
        "# intput example : \n",
        "# {\n",
        "#     \"data\" :\n",
        "#     {\n",
        "#         \"question\": \"what is the desicion tree\", \n",
        "#         \"skills\": \n",
        "#         [\n",
        "#             {\n",
        "#                 \"name\": \"machine learning\",\n",
        "#                 \"site\": \"www.datacamp.com\"\n",
        "#             },\n",
        "#             {\n",
        "#                 \"name\": \"object oriented\",\n",
        "#                 \"site\":\"www.datacamp.com\"\n",
        "#             }\n",
        "#         ],\n",
        "#         \"token\": \"hr_bot_2019_2020\"\n",
        "#     }\n",
        "# }\n",
        "@app.route('/interview/feedback', methods=['POST'])\n",
        "def feedback():\n",
        "    if not request.json or not 'skills' in request.json or not 'token' in request.json :\n",
        "        abort(400)\n",
        "\n",
        "    token = str(request.json[\"token\"])\n",
        "    if not (token == \"hr_bot_2019_2020\"):\n",
        "        abort(404)\n",
        "    else:\n",
        "        skills = (request.json['skills'])\n",
        "        f = FeedBack(skills=skills)\n",
        "        my_feedback = f.create_feedback()\n",
        "\n",
        "        return jsonify({'feedback': my_feedback}), 200\n",
        "\n",
        "if __name__ == \"__main__\":\n",
        "    app.run()"
      ],
      "execution_count": null,
      "outputs": [
        {
          "output_type": "stream",
          "text": [
            " * Serving Flask app \"__main__\" (lazy loading)\n",
            " * Environment: production\n",
            "\u001b[31m   WARNING: This is a development server. Do not use it in a production deployment.\u001b[0m\n",
            "\u001b[2m   Use a production WSGI server instead.\u001b[0m\n",
            " * Debug mode: off\n"
          ],
          "name": "stdout"
        },
        {
          "output_type": "stream",
          "text": [
            "INFO:werkzeug: * Running on http://127.0.0.1:5000/ (Press CTRL+C to quit)\n"
          ],
          "name": "stderr"
        },
        {
          "output_type": "stream",
          "text": [
            " * Running on http://9bee817def9f.ngrok.io\n",
            " * Traffic stats available on http://127.0.0.1:4040\n"
          ],
          "name": "stdout"
        },
        {
          "output_type": "stream",
          "text": [
            "INFO:werkzeug:127.0.0.1 - - [12/Aug/2020 08:52:33] \"\u001b[37mPOST /evaluate HTTP/1.1\u001b[0m\" 200 -\n"
          ],
          "name": "stderr"
        },
        {
          "output_type": "stream",
          "text": [
            "\n"
          ],
          "name": "stdout"
        },
        {
          "output_type": "stream",
          "text": [
            "INFO:werkzeug:127.0.0.1 - - [12/Aug/2020 08:52:40] \"\u001b[37mPOST /interview/feedback HTTP/1.1\u001b[0m\" 200 -\n",
            "INFO:werkzeug:127.0.0.1 - - [12/Aug/2020 08:55:37] \"\u001b[37mGET / HTTP/1.1\u001b[0m\" 200 -\n",
            "INFO:werkzeug:127.0.0.1 - - [12/Aug/2020 08:55:56] \"\u001b[37mGET / HTTP/1.1\u001b[0m\" 200 -\n",
            "INFO:werkzeug:127.0.0.1 - - [12/Aug/2020 08:55:57] \"\u001b[33mGET /favicon.ico HTTP/1.1\u001b[0m\" 404 -\n",
            "INFO:werkzeug:127.0.0.1 - - [12/Aug/2020 09:01:39] \"\u001b[37mGET / HTTP/1.1\u001b[0m\" 200 -\n",
            "INFO:werkzeug:127.0.0.1 - - [12/Aug/2020 09:01:39] \"\u001b[33mGET /favicon.ico HTTP/1.1\u001b[0m\" 404 -\n",
            "INFO:werkzeug:127.0.0.1 - - [12/Aug/2020 09:02:49] \"\u001b[37mGET / HTTP/1.1\u001b[0m\" 200 -\n",
            "INFO:werkzeug:127.0.0.1 - - [12/Aug/2020 09:02:51] \"\u001b[37mGET / HTTP/1.1\u001b[0m\" 200 -\n",
            "INFO:werkzeug:127.0.0.1 - - [12/Aug/2020 09:05:59] \"\u001b[37mPOST /interview/feedback HTTP/1.1\u001b[0m\" 200 -\n",
            "INFO:werkzeug:127.0.0.1 - - [12/Aug/2020 09:07:02] \"\u001b[37mPOST /interview/feedback HTTP/1.1\u001b[0m\" 200 -\n",
            "INFO:werkzeug:127.0.0.1 - - [12/Aug/2020 09:07:28] \"\u001b[31m\u001b[1mGET /evaluate HTTP/1.1\u001b[0m\" 405 -\n",
            "INFO:werkzeug:127.0.0.1 - - [12/Aug/2020 09:10:32] \"\u001b[37mPOST /evaluate HTTP/1.1\u001b[0m\" 200 -\n"
          ],
          "name": "stderr"
        },
        {
          "output_type": "stream",
          "text": [
            "\n"
          ],
          "name": "stdout"
        },
        {
          "output_type": "stream",
          "text": [
            "INFO:werkzeug:127.0.0.1 - - [12/Aug/2020 09:59:04] \"\u001b[37mPOST /evaluate HTTP/1.1\u001b[0m\" 200 -\n"
          ],
          "name": "stderr"
        },
        {
          "output_type": "stream",
          "text": [
            "\n"
          ],
          "name": "stdout"
        },
        {
          "output_type": "stream",
          "text": [
            "INFO:werkzeug:127.0.0.1 - - [12/Aug/2020 10:02:13] \"\u001b[37mPOST /interview/feedback HTTP/1.1\u001b[0m\" 200 -\n"
          ],
          "name": "stderr"
        }
      ]
    },
    {
      "cell_type": "code",
      "metadata": {
        "id": "9kE5Orj34rmq",
        "colab_type": "code",
        "colab": {}
      },
      "source": [
        ""
      ],
      "execution_count": null,
      "outputs": []
    }
  ]
}