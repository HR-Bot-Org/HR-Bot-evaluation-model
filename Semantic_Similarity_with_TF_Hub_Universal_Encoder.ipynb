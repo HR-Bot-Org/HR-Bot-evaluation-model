{
  "nbformat": 4,
  "nbformat_minor": 0,
  "metadata": {
    "accelerator": "GPU",
    "colab": {
      "name": "Semantic_Similarity_with_TF_Hub_Universal_Encoder.ipynb",
      "provenance": [],
      "collapsed_sections": [
        "RUymE2l9GZfO"
      ],
      "include_colab_link": true
    },
    "kernelspec": {
      "display_name": "Python 3",
      "language": "python",
      "name": "python3"
    }
  },
  "cells": [
    {
      "cell_type": "markdown",
      "metadata": {
        "id": "view-in-github",
        "colab_type": "text"
      },
      "source": [
        "<a href=\"https://colab.research.google.com/github/usamaeltmsah/HR-Bot-evaluation-model/blob/compare-model-answers-to-applicant-answer/Semantic_Similarity_with_TF_Hub_Universal_Encoder.ipynb\" target=\"_parent\"><img src=\"https://colab.research.google.com/assets/colab-badge.svg\" alt=\"Open In Colab\"/></a>"
      ]
    },
    {
      "cell_type": "markdown",
      "metadata": {
        "colab_type": "text",
        "id": "RUymE2l9GZfO"
      },
      "source": [
        "##### Copyright 2018 The TensorFlow Hub Authors.\n",
        "\n",
        "Licensed under the Apache License, Version 2.0 (the \"License\");"
      ]
    },
    {
      "cell_type": "code",
      "metadata": {
        "cellView": "code",
        "colab_type": "code",
        "id": "JMyTNwSJGGWg",
        "colab": {}
      },
      "source": [
        "# Copyright 2018 The TensorFlow Hub Authors. All Rights Reserved.\n",
        "#\n",
        "# Licensed under the Apache License, Version 2.0 (the \"License\");\n",
        "# you may not use this file except in compliance with the License.\n",
        "# You may obtain a copy of the License at\n",
        "#\n",
        "#     http://www.apache.org/licenses/LICENSE-2.0\n",
        "#\n",
        "# Unless required by applicable law or agreed to in writing, software\n",
        "# distributed under the License is distributed on an \"AS IS\" BASIS,\n",
        "# WITHOUT WARRANTIES OR CONDITIONS OF ANY KIND, either express or implied.\n",
        "# See the License for the specific language governing permissions and\n",
        "# limitations under the License.\n",
        "# =============================================================================="
      ],
      "execution_count": null,
      "outputs": []
    },
    {
      "cell_type": "markdown",
      "metadata": {
        "colab_type": "text",
        "id": "co7MV6sX7Xto"
      },
      "source": [
        "# Universal Sentence Encoder\n",
        "\n",
        "\n",
        "<table align=\"left\"><td>\n",
        "  <a target=\"_blank\"  href=\"https://colab.research.google.com/github/tensorflow/hub/blob/master/examples/colab/semantic_similarity_with_tf_hub_universal_encoder.ipynb\">\n",
        "    <img src=\"https://www.tensorflow.org/images/colab_logo_32px.png\" />Run in Google Colab\n",
        "  </a>\n",
        "</td><td>\n",
        "  <a target=\"_blank\"  href=\"https://github.com/tensorflow/hub/blob/master/examples/colab/semantic_similarity_with_tf_hub_universal_encoder.ipynb\">\n",
        "    <img width=32px src=\"https://www.tensorflow.org/images/GitHub-Mark-32px.png\" />View source on GitHub</a>\n",
        "</td></table>\n"
      ]
    },
    {
      "cell_type": "markdown",
      "metadata": {
        "colab_type": "text",
        "id": "eAVQGidpL8v5"
      },
      "source": [
        "## This notebook illustrates how to access the Universal Sentence Encoder and use it for sentence similarity and sentence classification tasks.\n",
        "\n",
        "The Universal Sentence Encoder makes getting sentence level embeddings as easy as it has historically been to lookup the embeddings for individual words. The sentence embeddings can then be trivially used to compute sentence level meaning similarity as well as to enable better performance on downstream classification tasks using less supervised training data.\n"
      ]
    },
    {
      "cell_type": "markdown",
      "metadata": {
        "colab_type": "text",
        "id": "pOTzp8O36CyQ"
      },
      "source": [
        "# Getting Started\n",
        "\n",
        "This section sets up the environment for access to the Universal Sentence Encoder on TF Hub and provides examples of applying the encoder to words, sentences, and paragraphs."
      ]
    },
    {
      "cell_type": "code",
      "metadata": {
        "colab_type": "code",
        "id": "lVjNK8shFKOC",
        "colab": {}
      },
      "source": [
        "%%capture\n",
        "# Install the latest Tensorflow version.sentence\n",
        "!pip3 install --upgrade tensorflow-gpu\n",
        "# Install TF-Hub.\n",
        "!pip3 install tensorflow-hub\n",
        "!pip3 install seaborn"
      ],
      "execution_count": 124,
      "outputs": []
    },
    {
      "cell_type": "markdown",
      "metadata": {
        "colab_type": "text",
        "id": "63Pd3nJnTl-i"
      },
      "source": [
        "More detailed information about installing Tensorflow can be found at [https://www.tensorflow.org/install/](https://www.tensorflow.org/install/)."
      ]
    },
    {
      "cell_type": "code",
      "metadata": {
        "colab_type": "code",
        "id": "zwty8Z6mAkdV",
        "colab": {
          "base_uri": "https://localhost:8080/",
          "height": 34
        },
        "outputId": "90f72c9f-06af-419e-d21e-5b8b93f9fa4d"
      },
      "source": [
        "#@title Load the Universal Sentence Encoder's TF Hub module\n",
        "from absl import logging\n",
        "\n",
        "import tensorflow as tf\n",
        "import tensorflow_hub as hub\n",
        "import matplotlib.pyplot as plt\n",
        "import numpy as np\n",
        "import os\n",
        "import pandas as pd\n",
        "import re\n",
        "import seaborn as sns\n",
        "\n",
        "module_url = \"https://tfhub.dev/google/universal-sentence-encoder-large/5\" #@param [\"https://tfhub.dev/google/universal-sentence-encoder/4\", \"https://tfhub.dev/google/universal-sentence-encoder-large/5\"]\n",
        "model = hub.load(module_url)\n",
        "print (\"module %s loaded\" % module_url)\n",
        "def embed(input):\n",
        "  # #It is important to use this placeholder, this allows you to keep the graph static, else you will run into memory leaks\n",
        "  # input = tf.placeholder(dtype=tf.string, shape=[None])\n",
        "  return model(input)"
      ],
      "execution_count": 125,
      "outputs": [
        {
          "output_type": "stream",
          "text": [
            "module https://tfhub.dev/google/universal-sentence-encoder-large/5 loaded\n"
          ],
          "name": "stdout"
        }
      ]
    },
    {
      "cell_type": "markdown",
      "metadata": {
        "id": "H3rMIqtQP_Fd",
        "colab_type": "text"
      },
      "source": [
        "## Remove punctuations"
      ]
    },
    {
      "cell_type": "code",
      "metadata": {
        "id": "Btzu7sJwQA_c",
        "colab_type": "code",
        "colab": {}
      },
      "source": [
        "def rem_punc_from_text(text):\n",
        "  return re.sub(r'[^\\w\\s]','',text)"
      ],
      "execution_count": 126,
      "outputs": []
    },
    {
      "cell_type": "markdown",
      "metadata": {
        "id": "ixbwpMoKQGkO",
        "colab_type": "text"
      },
      "source": [
        "## Removing Stop Words"
      ]
    },
    {
      "cell_type": "code",
      "metadata": {
        "id": "BxlO23LXQHuF",
        "colab_type": "code",
        "colab": {
          "base_uri": "https://localhost:8080/",
          "height": 51
        },
        "outputId": "60d304fa-a3ce-42f2-cbcd-ebecddd1ed9d"
      },
      "source": [
        "import nltk\n",
        "nltk.download(\"stopwords\")\n",
        "from nltk.corpus import stopwords\n",
        "stop = stopwords.words('english')"
      ],
      "execution_count": 127,
      "outputs": [
        {
          "output_type": "stream",
          "text": [
            "[nltk_data] Downloading package stopwords to /root/nltk_data...\n",
            "[nltk_data]   Package stopwords is already up-to-date!\n"
          ],
          "name": "stdout"
        }
      ]
    },
    {
      "cell_type": "code",
      "metadata": {
        "id": "w727p4HmQUdw",
        "colab_type": "code",
        "colab": {}
      },
      "source": [
        "def rem_stop_words(data):\n",
        "  return data.apply(lambda x: \" \".join(x for x in x.split() if x not in stop))"
      ],
      "execution_count": 128,
      "outputs": []
    },
    {
      "cell_type": "code",
      "metadata": {
        "id": "XAv7jdfhQWqU",
        "colab_type": "code",
        "colab": {}
      },
      "source": [
        "def rem_stop_words_from_text(text):\n",
        "  return \" \".join(text for text in text.split() if text not in stop)"
      ],
      "execution_count": 129,
      "outputs": []
    },
    {
      "cell_type": "code",
      "metadata": {
        "id": "kpA2wUSTQZg_",
        "colab_type": "code",
        "colab": {}
      },
      "source": [
        "def count_words(sentence):\n",
        "  return len(re.findall(r'\\w+', sentence))"
      ],
      "execution_count": 130,
      "outputs": []
    },
    {
      "cell_type": "code",
      "metadata": {
        "id": "gcQVNWwdQcFv",
        "colab_type": "code",
        "colab": {}
      },
      "source": [
        "def compare_strings_lengths(s1, s2):\n",
        "  return count_words(s1) - count_words(s2)"
      ],
      "execution_count": 131,
      "outputs": []
    },
    {
      "cell_type": "code",
      "metadata": {
        "id": "lbg2CI-0QejE",
        "colab_type": "code",
        "colab": {}
      },
      "source": [
        "# Return the index of the larger (according two n words) sentence\n",
        "# If s1 > s2 Return 0 Else return 1\n",
        "def which_larger(s1, s2):\n",
        "  return 0 if count_words(s1) > count_words(s2) else 1"
      ],
      "execution_count": 132,
      "outputs": []
    },
    {
      "cell_type": "code",
      "metadata": {
        "id": "wTMR4eP_QgX1",
        "colab_type": "code",
        "colab": {}
      },
      "source": [
        "def embed(input):\n",
        "  return model(input)"
      ],
      "execution_count": 133,
      "outputs": []
    },
    {
      "cell_type": "code",
      "metadata": {
        "id": "9p8GsVt_Qjdf",
        "colab_type": "code",
        "colab": {}
      },
      "source": [
        "# Correlation matrix\n",
        "def calc_corr(features):\n",
        "  corr = np.inner(features, features)\n",
        "  return corr"
      ],
      "execution_count": 134,
      "outputs": []
    },
    {
      "cell_type": "code",
      "metadata": {
        "id": "i7GDxl_5Ql6Z",
        "colab_type": "code",
        "colab": {}
      },
      "source": [
        "def sentence_embedding(sentences_):\n",
        "  sentence_embeddings_ = embed(sentences_)\n",
        "  return sentence_embeddings_"
      ],
      "execution_count": 135,
      "outputs": []
    },
    {
      "cell_type": "code",
      "metadata": {
        "id": "J7ZZqbxTQq4d",
        "colab_type": "code",
        "colab": {}
      },
      "source": [
        "def evaluate_answer(answers, applicant_answer):\n",
        "  answers.append(applicant_answer)\n",
        "\n",
        "  sentence_embeddings_ = sentence_embedding(answers)\n",
        "\n",
        "  corr = calc_corr(sentence_embeddings_)\n",
        "  return get_best_score(corr)"
      ],
      "execution_count": 136,
      "outputs": []
    },
    {
      "cell_type": "code",
      "metadata": {
        "id": "EsUXjdHUQrxO",
        "colab_type": "code",
        "colab": {}
      },
      "source": [
        "# @Param corr: the similarity matrix between all the texts\n",
        "# The last is the applicant answer\n",
        "def get_best_score(corr):\n",
        "  length = len(corr)\n",
        "  in_description_corr = corr[length -1]\n",
        "  in_description_corr = np.delete(in_description_corr, -1)\n",
        "  return max(in_description_corr)"
      ],
      "execution_count": 137,
      "outputs": []
    },
    {
      "cell_type": "markdown",
      "metadata": {
        "id": "WSFIIp3VQ2Gy",
        "colab_type": "text"
      },
      "source": [
        "## Make N-grams"
      ]
    },
    {
      "cell_type": "code",
      "metadata": {
        "id": "kihMKzqrQ20b",
        "colab_type": "code",
        "colab": {
          "base_uri": "https://localhost:8080/",
          "height": 68
        },
        "outputId": "b288f99e-e324-436f-b491-ae866a202dbf"
      },
      "source": [
        "# Import Library for ngrams\n",
        "from textblob import TextBlob\n",
        "nltk.download('punkt')"
      ],
      "execution_count": 138,
      "outputs": [
        {
          "output_type": "stream",
          "text": [
            "[nltk_data] Downloading package punkt to /root/nltk_data...\n",
            "[nltk_data]   Package punkt is already up-to-date!\n"
          ],
          "name": "stdout"
        },
        {
          "output_type": "execute_result",
          "data": {
            "text/plain": [
              "True"
            ]
          },
          "metadata": {
            "tags": []
          },
          "execution_count": 138
        }
      ]
    },
    {
      "cell_type": "code",
      "metadata": {
        "id": "0V3MNnuTQ4-c",
        "colab_type": "code",
        "colab": {}
      },
      "source": [
        "def ngrams(text, n):\n",
        "  ngrams_word_lists_to_list = []\n",
        "  ngrams = TextBlob(text).ngrams(n)\n",
        "  for ngram in ngrams:\n",
        "    ngrams_word_lists_to_list.append(' '.join(word for word in ngram))\n",
        "  return ngrams_word_lists_to_list"
      ],
      "execution_count": 139,
      "outputs": []
    },
    {
      "cell_type": "code",
      "metadata": {
        "colab_type": "code",
        "id": "Q8F4LNGFqOiq",
        "colab": {}
      },
      "source": [
        "# #@title Compute a representation for each sentence, showing various lengths supported.\n",
        "# word = \"Elephant\"\n",
        "# sentence = \"I am a sentence for which I would like to get its embedding.\"\n",
        "# paragraph = (\n",
        "#     \"Universal Sentence Encoder embeddings also support short paragraphs. \"\n",
        "#     \"There is no hard limit on how long the paragraph is. Roughly, the longer \"\n",
        "#     \"the more 'diluted' the embedding will be.\")\n",
        "# sentences = [word, sentence, paragraph]\n",
        "\n",
        "# # Reduce logging output.\n",
        "# logging.set_verbosity(logging.ERROR)\n",
        "\n",
        "# sentence_embeddings = embed(sentences)\n",
        "\n",
        "# for i, sentence_embedding in enumerate(np.array(sentence_embeddings).tolist()):\n",
        "#   print(\"Sentences: {}\".format(sentences[i]))\n",
        "#   print(\"Embedding size: {}\".format(len(sentence_embedding)))\n",
        "#   sentence_embedding_snippet = \", \".join(\n",
        "#       (str(x) for x in sentence_embedding[:3]))\n",
        "#   print(\"Embedding: [{}, ...]\\n\".format(sentence_embedding_snippet))"
      ],
      "execution_count": 140,
      "outputs": []
    },
    {
      "cell_type": "markdown",
      "metadata": {
        "colab_type": "text",
        "id": "BnvjATdy64eR"
      },
      "source": [
        "# Semantic Textual Similarity Task Example\n",
        "\n",
        "The embeddings produced by the Universal Sentence Encoder are approximately normalized. The semantic similarity of two sentences can be trivially computed as the inner product of the encodings."
      ]
    },
    {
      "cell_type": "code",
      "metadata": {
        "colab_type": "code",
        "id": "h1FFCTKm7ba4",
        "colab": {}
      },
      "source": [
        "def plot_similarity(labels, features, rotation):\n",
        "  n = len(features)\n",
        "  corr = np.inner(features, features[n - 1])\n",
        "  sns.set(font_scale=1.2)\n",
        "  df = pd.DataFrame({\"features\": corr},\n",
        "                  index=labels)\n",
        "\n",
        "  sns.heatmap(df, annot=True, fmt=\"g\", cmap='viridis')\n",
        "\n",
        "  plt.show()\n",
        "\n",
        "\n",
        "  # g = sns.heatmap(\n",
        "  #     corr,\n",
        "  #     xticklabels=labels,\n",
        "  #     yticklabels=labels,\n",
        "  #     vmin=0,\n",
        "  #     vmax=1,\n",
        "  #     cmap=\"YlOrRd\")\n",
        "  # g.set_xticklabels(labels, rotation=rotation)\n",
        "  # g.set_title(\"Semantic Textual Similarity\")\n",
        "\n",
        "def run_and_plot(sentences_):\n",
        "  sentence_embeddings_ = embed(sentences_)\n",
        "  plot_similarity(sentences_, sentence_embeddings_, 90)"
      ],
      "execution_count": 141,
      "outputs": []
    },
    {
      "cell_type": "markdown",
      "metadata": {
        "colab_type": "text",
        "id": "339tuJ5Pwqqv"
      },
      "source": [
        "## Similarity Visualized\n",
        "Here we show the similarity in a heat map. The final graph is a 9x9 matrix where each entry `[i, j]` is colored based on the inner product of the encodings for sentence `i` and `j`."
      ]
    },
    {
      "cell_type": "code",
      "metadata": {
        "colab_type": "code",
        "id": "cPMCaxrZwp7t",
        "colab": {
          "base_uri": "https://localhost:8080/",
          "height": 160
        },
        "outputId": "f8c33511-8a0d-44f8-c772-c8c0d40df0cf"
      },
      "source": [
        "sentences = [\n",
        "    # what is oop?\n",
        "    \"is a programming paradigm based on the concept of objects, which can contain data, in the form of fields, and code, in the form of procedures. A feature of objects is an object's procedures that can access and often modify the data fields of the object with which they are associated.\",\n",
        "    \"is a programming language model organized around objects rather than actions and data rather than logic. Historically, a program has been viewed as a logical procedure that takes input data, processes it, and produces output data.\",\n",
        "    \"is a type of computer programming in which programmers define the data type of a data structure, and also the types of operations (functions) that can be applied to the data structure.\",\n",
        "\n",
        "    # What is function requirments?\n",
        "    # \"defines a function of a system or its component, where a function is described as a specification of behavior between outputs and inputs.\",\n",
        "    # \"describe how a product must behave, what its features and functions.\",\n",
        "    # \"are functional features and specifications expected by users from the proposed software product.\",\n",
        "\n",
        "    # # What is computer software?\n",
        "    # \"is a package which includes a software program, its documentation, and user guide on how to use the software.\",\n",
        "    # \"is a collection of data or computer instructions that tell the computer how to work. This is in contrast to physical hardware, from which the system is built and actually performs the work.\",\n",
        "    # \"is a set of instructions and its documentations that tells a computer what to do or how to perform a task. Software includes all different software programs on a computer, such as applications and the operating system.\",\n",
        "\n",
        "    # # What Is Agile Scrum?\n",
        "    # \"DescriptionScrum is an agile process framework for managing complex knowledge work, with an initial emphasis on software development, although it has been used in other fields and is slowly starting to be explored for other complex work, research and advanced technologies.\",\n",
        "    # \"is a subset of Agile. It is a lightweight process framework for agile development, and the most widely-used one.\",\n",
        "]\n",
        "\n",
        "run_and_plot(sentences)"
      ],
      "execution_count": 142,
      "outputs": [
        {
          "output_type": "display_data",
          "data": {
            "image/png": "[encoded data removed]",
            "text/plain": [
              "<Figure size 432x288 with 2 Axes>"
            ]
          },
          "metadata": {
            "tags": []
          }
        }
      ]
    },
    {
      "cell_type": "markdown",
      "metadata": {
        "colab_type": "text",
        "id": "6FjdeCqPJeg-"
      },
      "source": [
        "## Evaluation: STS (Semantic Textual Similarity) Benchmark\n",
        "\n",
        "The [**STS Benchmark**](http://ixa2.si.ehu.es/stswiki/index.php/STSbenchmark) provides an intristic evaluation of the degree to which similarity scores computed using sentence embeddings align with human judgements. The benchmark requires systems to return similarity scores for a diverse selection of sentence pairs. [Pearson correlation](https://en.wikipedia.org/wiki/Pearson_correlation_coefficient) is then used to evaluate the quality of the machine similarity scores against human judgements."
      ]
    },
    {
      "cell_type": "markdown",
      "metadata": {
        "colab_type": "text",
        "id": "q5nuBbI1iFQR"
      },
      "source": [
        "### Download data"
      ]
    },
    {
      "cell_type": "code",
      "metadata": {
        "colab_type": "code",
        "id": "VOs8ZfOnJeBF",
        "colab": {}
      },
      "source": [
        "# import pandas\n",
        "# import scipy\n",
        "# import math\n",
        "# import csv\n",
        "\n",
        "# sts_dataset = tf.keras.utils.get_file(\n",
        "#     fname=\"Stsbenchmark.tar.gz\",\n",
        "#     origin=\"http://ixa2.si.ehu.es/stswiki/images/4/48/Stsbenchmark.tar.gz\",\n",
        "#     extract=True)\n",
        "# sts_dev = pandas.read_table(\n",
        "#     os.path.join(os.path.dirname(sts_dataset), \"stsbenchmark\", \"sts-dev.csv\"),\n",
        "#     error_bad_lines=False,\n",
        "#     skip_blank_lines=True,\n",
        "#     usecols=[4, 5, 6],\n",
        "#     names=[\"sim\", \"sent_1\", \"sent_2\"])\n",
        "# sts_test = pandas.read_table(\n",
        "#     os.path.join(\n",
        "#         os.path.dirname(sts_dataset), \"stsbenchmark\", \"sts-test.csv\"),\n",
        "#     error_bad_lines=False,\n",
        "#     quoting=csv.QUOTE_NONE,\n",
        "#     skip_blank_lines=True,\n",
        "#     usecols=[4, 5, 6],\n",
        "#     names=[\"sim\", \"sent_1\", \"sent_2\"])\n",
        "# # cleanup some NaN values in sts_dev\n",
        "# sts_dev = sts_dev[[isinstance(s, str) for s in sts_dev['sent_2']]]"
      ],
      "execution_count": 143,
      "outputs": []
    },
    {
      "cell_type": "markdown",
      "metadata": {
        "colab_type": "text",
        "id": "8OKy8WhnKRe_"
      },
      "source": [
        "### Evaluate Sentence Embeddings"
      ]
    },
    {
      "cell_type": "code",
      "metadata": {
        "colab_type": "code",
        "id": "W-q2r7jyZGb7",
        "colab": {}
      },
      "source": [
        "# sts_data = sts_dev #@param [\"sts_dev\", \"sts_test\"] {type:\"raw\"}\n",
        "\n",
        "# def run_sts_benchmark(batch):\n",
        "#   sts_encode1 = tf.nn.l2_normalize(embed(tf.constant(batch['sent_1'].tolist())), axis=1)\n",
        "#   sts_encode2 = tf.nn.l2_normalize(embed(tf.constant(batch['sent_2'].tolist())), axis=1)\n",
        "#   cosine_similarities = tf.reduce_sum(tf.multiply(sts_encode1, sts_encode2), axis=1)\n",
        "#   clip_cosine_similarities = tf.clip_by_value(cosine_similarities, -1.0, 1.0)\n",
        "#   scores = 1.0 - tf.acos(clip_cosine_similarities)\n",
        "#   \"\"\"Returns the similarity scores\"\"\"\n",
        "#   return scores\n",
        "\n",
        "# dev_scores = sts_data['sim'].tolist()\n",
        "# scores = []\n",
        "# for batch in np.array_split(sts_data, 10):\n",
        "#   scores.extend(run_sts_benchmark(batch))\n",
        "\n",
        "# pearson_correlation = scipy.stats.pearsonr(scores, dev_scores)\n",
        "# print('Pearson correlation coefficient = {0}\\np-value = {1}'.format(\n",
        "#     pearson_correlation[0], pearson_correlation[1]))"
      ],
      "execution_count": 144,
      "outputs": []
    },
    {
      "cell_type": "code",
      "metadata": {
        "id": "EdJZXLaoSCeg",
        "colab_type": "code",
        "colab": {}
      },
      "source": [
        ""
      ],
      "execution_count": 144,
      "outputs": []
    },
    {
      "cell_type": "code",
      "metadata": {
        "id": "CePQMWCwEPdo",
        "colab_type": "code",
        "colab": {}
      },
      "source": [
        "# Correlation matrix\n",
        "def calc_corr(features):\n",
        "  n = len(features)\n",
        "  corr = np.inner(features, features[n - 1])\n",
        "  # corr = np.inner(features, features)\n",
        "  return corr"
      ],
      "execution_count": 145,
      "outputs": []
    },
    {
      "cell_type": "code",
      "metadata": {
        "id": "YKGD7cqxOZx6",
        "colab_type": "code",
        "colab": {}
      },
      "source": [
        "def sentence_embedding(sentences_):\n",
        "  sentence_embeddings_ = embed(sentences_)\n",
        "  return sentence_embeddings_"
      ],
      "execution_count": 146,
      "outputs": []
    },
    {
      "cell_type": "code",
      "metadata": {
        "id": "nOQLwHwYNe8i",
        "colab_type": "code",
        "colab": {}
      },
      "source": [
        "def evaluate_answer(answers, applicant_answer):\n",
        "  answers.append(applicant_answer)\n",
        "\n",
        "  sentence_embeddings_ = sentence_embedding(answers)\n",
        "\n",
        "  corr = calc_corr(sentence_embeddings_)\n",
        "  return get_best_score(corr)"
      ],
      "execution_count": 147,
      "outputs": []
    },
    {
      "cell_type": "code",
      "metadata": {
        "id": "yXgu79wgO0Z9",
        "colab_type": "code",
        "colab": {}
      },
      "source": [
        "# @Param corr: the similarity matrix between all the texts\n",
        "# The last is the applicant answer\n",
        "def get_best_score(corr):\n",
        "  length = len(corr)\n",
        "  \n",
        "  applicant_answer_corr = corr\n",
        "  applicant_answer_corr = np.delete(applicant_answer_corr, -1)\n",
        "  # print(applicant_answer_corr)\n",
        "  # applicant_answer_corr = np.delete(applicant_answer_corr, -1)\n",
        "  return max(applicant_answer_corr)"
      ],
      "execution_count": 148,
      "outputs": []
    },
    {
      "cell_type": "code",
      "metadata": {
        "id": "XR6SzB5fO446",
        "colab_type": "code",
        "colab": {
          "base_uri": "https://localhost:8080/",
          "height": 34
        },
        "outputId": "68461b71-d8ca-4e74-b453-757b515eb33e"
      },
      "source": [
        "model_answers = [\"is a programming paradigm based on the concept of objects, which can contain data, in the form of fields, and code, in the form of procedures. A feature of objects is an object's procedures that can access and often modify the data fields of the object with which they are associated.\",\n",
        "    \"is a programming language model organized around objects rather than actions and data rather than logic. Historically, a program has been viewed as a logical procedure that takes input data, processes it, and produces output data.\"]\n",
        "applicant_answer = \"is a type of computer programming in which programmers define the data type of a data structure, and also the types of operations (functions) that can be applied to the data structure.\"\n",
        "\n",
        "print(evaluate_answer(model_answers, applicant_answer))"
      ],
      "execution_count": 149,
      "outputs": [
        {
          "output_type": "stream",
          "text": [
            "0.6484182\n"
          ],
          "name": "stdout"
        }
      ]
    },
    {
      "cell_type": "code",
      "metadata": {
        "id": "fmlW5Tttt93Q",
        "colab_type": "code",
        "colab": {}
      },
      "source": [
        ""
      ],
      "execution_count": null,
      "outputs": []
    }
  ]
}